{
  "nbformat": 4,
  "nbformat_minor": 0,
  "metadata": {
    "colab": {
      "provenance": [],
      "authorship_tag": "ABX9TyNJK8fbuwK7ZbhOL2i8DMne",
      "include_colab_link": true
    },
    "kernelspec": {
      "name": "python3",
      "display_name": "Python 3"
    },
    "language_info": {
      "name": "python"
    }
  },
  "cells": [
    {
      "cell_type": "markdown",
      "metadata": {
        "id": "view-in-github",
        "colab_type": "text"
      },
      "source": [
        "<a href=\"https://colab.research.google.com/github/abdurrahman16/API-Intregation/blob/main/Advance_DS.ipynb\" target=\"_parent\"><img src=\"https://colab.research.google.com/assets/colab-badge.svg\" alt=\"Open In Colab\"/></a>"
      ]
    },
    {
      "cell_type": "code",
      "source": [
        "mylist=[\n",
        "    ['A','B','C','D','E'],\n",
        "    ['A','B','C','D','E'],\n",
        "    ['A','B','C','D','E'],\n",
        "    ['A','B','C','D','E'],\n",
        "    ['A','B','C','D','E']\n",
        "]\n",
        "mylist.append(12)\n",
        "mylist"
      ],
      "metadata": {
        "colab": {
          "base_uri": "https://localhost:8080/"
        },
        "id": "igofLZ8M11bA",
        "outputId": "3a1d3a1b-9b84-4c1a-854d-5bed44aaa6b5"
      },
      "execution_count": 6,
      "outputs": [
        {
          "output_type": "execute_result",
          "data": {
            "text/plain": [
              "[['A', 'B', 'C', 'D', 'E'],\n",
              " ['A', 'B', 'C', 'D', 'E'],\n",
              " ['A', 'B', 'C', 'D', 'E'],\n",
              " ['A', 'B', 'C', 'D', 'E'],\n",
              " ['A', 'B', 'C', 'D', 'E'],\n",
              " 12]"
            ]
          },
          "metadata": {},
          "execution_count": 6
        }
      ]
    }
  ]
}